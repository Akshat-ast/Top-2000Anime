{
 "cells": [
  {
   "cell_type": "code",
   "execution_count": null,
   "id": "bff44b22-6459-48b7-96df-cc2639612215",
   "metadata": {},
   "outputs": [],
   "source": [
    "# importing required Libraries\n",
    "import matplotlib.pyplot as plt\n",
    "import seaborn as sb\n",
    "import pandas as pd\n",
    "import numpy as np\n",
    "import ast"
   ]
  },
  {
   "cell_type": "code",
   "execution_count": null,
   "id": "4d62ba71-c299-4650-a1f1-9eb7ef3429c8",
   "metadata": {},
   "outputs": [],
   "source": [
    "# Loading data form CSV file downloaded from kaggle\n",
    "df = pd.read_csv('mal_top2000_anime.csv')"
   ]
  },
  {
   "cell_type": "code",
   "execution_count": null,
   "id": "a2833135-939a-420d-ab2d-9dcd5d79b5af",
   "metadata": {},
   "outputs": [],
   "source": [
    "df.isnull().sum() # Checking for null values if exists we remove it using dropna()."
   ]
  },
  {
   "cell_type": "code",
   "execution_count": null,
   "id": "b5d5feb2-cbd1-4982-84c3-725a24fba022",
   "metadata": {},
   "outputs": [],
   "source": [
    "plt.plot(df['Popularity Rank'],df['Num. of episodes'])\n",
    "# initial check whether there is a correlation between Polularity and number of episodes,This plot does not give us any insight."
   ]
  },
  {
   "cell_type": "code",
   "execution_count": null,
   "id": "ddfae1e7-3df6-48d7-bee2-864fb0fceb2f",
   "metadata": {},
   "outputs": [],
   "source": [
    "df.corr() #determining correlation between columns of given dataset"
   ]
  },
  {
   "cell_type": "code",
   "execution_count": null,
   "id": "a2ef2ac3-e30a-46c6-b0b7-b1de1ef2659e",
   "metadata": {},
   "outputs": [],
   "source": [
    "df.shape #Determining the number of rows and Columns in given dataset."
   ]
  },
  {
   "cell_type": "code",
   "execution_count": null,
   "id": "1405744d-e7af-42b3-a056-12209a80c621",
   "metadata": {},
   "outputs": [],
   "source": [
    "df['Score'].describe()"
   ]
  },
  {
   "cell_type": "code",
   "execution_count": null,
   "id": "c45e90ce-e7ca-441d-a319-246d0907dcc2",
   "metadata": {},
   "outputs": [],
   "source": [
    "df['Name'].tail(1).loc[df['Score']==df['Score'].min()]\n",
    "# Name of the lowest rated anime in the database"
   ]
  },
  {
   "cell_type": "code",
   "execution_count": null,
   "id": "f38e8207-19e6-4733-bc0b-83e379dfebbe",
   "metadata": {},
   "outputs": [],
   "source": [
    "df.sort_values('Score Rank').head(5)"
   ]
  },
  {
   "cell_type": "code",
   "execution_count": null,
   "id": "32ee27cf-3d8f-43dc-87c2-52ffe82409d3",
   "metadata": {},
   "outputs": [],
   "source": [
    "Top Anime based on Score Rankings are FullMetal Alchemist, SpyxFamily,Attack on titan S3."
   ]
  },
  {
   "cell_type": "code",
   "execution_count": null,
   "id": "266c099a-2c41-4173-9869-0abc126034d9",
   "metadata": {},
   "outputs": [],
   "source": [
    "df.sort_values('Popularity Rank').head(5)"
   ]
  },
  {
   "cell_type": "code",
   "execution_count": null,
   "id": "d7fb8200-95b3-4cf4-a50d-8e5cac6ffd72",
   "metadata": {},
   "outputs": [],
   "source": [
    "Most popular anime of all time are attoack on titan, Death Note, Fullmetal Alchemist:BrotherHoods."
   ]
  },
  {
   "cell_type": "code",
   "execution_count": null,
   "id": "106c8915-1724-407f-87ce-b3c44981aeae",
   "metadata": {},
   "outputs": [],
   "source": [
    "plt.scatter(df['Score Rank'],df['Popularity Rank'])"
   ]
  },
  {
   "cell_type": "code",
   "execution_count": null,
   "id": "c2e3ede0-f515-4b45-8dab-188ad215e8c9",
   "metadata": {},
   "outputs": [],
   "source": [
    "# This shows that Score Rank does not depends upon Popularity Rank"
   ]
  },
  {
   "cell_type": "code",
   "execution_count": null,
   "id": "f8cd8591-acc7-4b4b-80e8-3f589a361479",
   "metadata": {},
   "outputs": [],
   "source": [
    "plt.figure(figsize = (15,10))\n",
    "plt.title(\"Score Vs Rank Vs Popularity\")\n",
    "plt.scatter(df['Score'],df['Score Rank']);\n",
    "plt.scatter(df['Score'],df['Popularity Rank']);\n",
    "plt.xlabel('Score')\n",
    "plt.ylabel('Rank')\n",
    "plt.legend(labels = ['Score Rank','Popularity Rank'])"
   ]
  },
  {
   "cell_type": "code",
   "execution_count": null,
   "id": "d3238b2f-763a-4677-8721-bf5d785bd0ab",
   "metadata": {},
   "outputs": [],
   "source": [
    "Above plot indicates Popularity Rank does not depends upon the Score which means Score does not determine the Popularity among people."
   ]
  },
  {
   "cell_type": "code",
   "execution_count": null,
   "id": "a7bd0bca-3e48-42db-a0f7-2595aeebcff1",
   "metadata": {},
   "outputs": [],
   "source": [
    "dictmax = max(genre_dict, key = genre_dict.get)\n",
    "print(dictmax,\"Occurs\",max(genre_dict.values()),\"times\")\n",
    "dictmin = min(genre_dict, key=genre_dict.get)\n",
    "print(dictmin,\"occurance is minimum\")\n",
    "print(\"There are \",len(genre_dict),\"Genres in given dataset\")"
   ]
  },
  {
   "cell_type": "code",
   "execution_count": null,
   "id": "5f65855b-5777-44eb-9dbf-8246fb78f84e",
   "metadata": {},
   "outputs": [],
   "source": [
    "import ast\n",
    "\n",
    "#create an empty dict\n",
    "genre_dict = {}\n",
    "\n",
    "ind=0;\n",
    "for genres in df['Genres']:\n",
    "    genreList = ast.literal_eval(genres) #now we get \"Action\", \"Adventure\", etc... string array\n",
    "    print(\"Length \",ind,\": \", len(genreList))\n",
    "    for genre in genreList:\n",
    "        if genre in genre_dict:      #check whether the dict got the item or not\n",
    "            genre_dict[genre]+=1\n",
    "        else:\n",
    "            genre_dict[genre]=1       #if not in dict, we assign count of 1 as for initialize new key for the dict\n",
    "        print(genre)\n",
    "    print(\"\\n\")\n",
    "    ind+=1\n"
   ]
  },
  {
   "cell_type": "code",
   "execution_count": null,
   "id": "8f2534ec-f04e-43df-9e71-191fe9b880d0",
   "metadata": {},
   "outputs": [],
   "source": [
    "pieLabels=[\"%s\" % key for key in genre_dict]\n",
    "pieValues=[\"%d\" % genre_dict[key] for key in genre_dict]\n",
    "for key in \n",
    "plt.pie(pieValues, labels = pieLabels, autopct='%1.1f%%');\n",
    "# Plotting pie chart to display the genres by their percentage"
   ]
  },
  {
   "cell_type": "code",
   "execution_count": null,
   "id": "69380dcf-9ee3-4cc6-b8d9-55d2898823dc",
   "metadata": {},
   "outputs": [],
   "source": [
    "# top 3 genres in Top anime list are Comedy, Action Drama."
   ]
  },
  {
   "cell_type": "code",
   "execution_count": null,
   "id": "a738f436-32c3-423f-b9db-70de6a7ed732",
   "metadata": {},
   "outputs": [],
   "source": [
    "prod_dict = {}\n",
    "\n",
    "ind=0;\n",
    "for prod in df['Studio']:\n",
    "    prodList = ast.literal_eval(prod) #now we get \"I.G.\", \"K-Factory\", etc... string array\n",
    "    for prod in prodList:\n",
    "        if prod in prod_dict:      #check whether the dict got the item or not\n",
    "            prod_dict[prod]+=1\n",
    "        else:\n",
    "            prod_dict[prod]=1       #if not in dict, we assign count of 1 as for initialize new key for the dict\n",
    "    ind+=1\n",
    "    \n",
    "dictmaxprod = max(prod_dict, key = prod_dict.get)\n",
    "print(dictmaxprod,\"Occurs\",max(prod_dict.values()),\"times in the top 2000 Anime list\")\n",
    "dictminprod = min(prod_dict, key=prod_dict.get)\n",
    "print(dictminprod,\"occurance is minimum\")\n",
    "print(\"There are \",len(prod_dict),\"Studios in given dataset\")\n",
    "    \n",
    "    \n",
    "# Determining Maximum and minimun numbers anime Studio present in the given list"
   ]
  },
  {
   "cell_type": "code",
   "execution_count": null,
   "id": "6b82cc09-e30d-45b1-ba43-7af8550fef28",
   "metadata": {},
   "outputs": [],
   "source": [
    "sorted_dict=sorted(prod_dict.items(), key=lambda item: item[1])\n",
    "Studiosorted = sorted_dict[::-1]\n",
    "Studio10 = Studiosorted[0:10]\n",
    "print(Studio10)\n",
    "# Taking out list of top ten anime stodios from the dataset."
   ]
  },
  {
   "cell_type": "code",
   "execution_count": null,
   "id": "a29eaccc-25f3-4e93-a53f-ae59c476c160",
   "metadata": {},
   "outputs": [],
   "source": [
    "# As the above data is in form of tuple we need to extract anime name and Studio name."
   ]
  },
  {
   "cell_type": "code",
   "execution_count": null,
   "id": "83d92c8f-6fc7-4941-a408-c685d323e82c",
   "metadata": {},
   "outputs": [],
   "source": [
    "index=0\n",
    "ep10 = []\n",
    "name10 = []\n",
    "for x in range(10):\n",
    "    (name,ep) = Studio10[index]\n",
    "    ep10.append(ep)\n",
    "    name10.append(name)\n",
    "    index+=1\n"
   ]
  },
  {
   "cell_type": "code",
   "execution_count": null,
   "id": "5c5b3090-56c8-4dc9-a03a-c167c2fc9752",
   "metadata": {},
   "outputs": [],
   "source": [
    "explode = [0.1,0,0,0,0,0,0,0,0,0]\n",
    "plt.pie(ep10,labels = name10,explode = explode,autopct='%1.1f%%');\n",
    "plt.title('Top Anime Studios')\n",
    "# Plotting pie chart from the extracted data and determining the top studio."
   ]
  },
  {
   "cell_type": "code",
   "execution_count": null,
   "id": "148ddb88-8c1d-4269-91eb-05967e6befe8",
   "metadata": {},
   "outputs": [],
   "source": []
  }
 ],
 "metadata": {
  "kernelspec": {
   "display_name": "Python 3 (ipykernel)",
   "language": "python",
   "name": "python3"
  },
  "language_info": {
   "codemirror_mode": {
    "name": "ipython",
    "version": 3
   },
   "file_extension": ".py",
   "mimetype": "text/x-python",
   "name": "python",
   "nbconvert_exporter": "python",
   "pygments_lexer": "ipython3",
   "version": "3.10.4"
  }
 },
 "nbformat": 4,
 "nbformat_minor": 5
}
